{
 "cells": [
  {
   "cell_type": "code",
   "execution_count": 1,
   "metadata": {
    "pycharm": {
     "name": "#%%\n"
    }
   },
   "outputs": [],
   "source": [
    "import cvxpy as cp\n",
    "import numpy as np"
   ]
  },
  {
   "cell_type": "code",
   "execution_count": 2,
   "metadata": {
    "pycharm": {
     "name": "#%%\n"
    }
   },
   "outputs": [],
   "source": [
    "number_horizontal_spaces = 4\n",
    "number_vertical_spaces = 2"
   ]
  },
  {
   "cell_type": "code",
   "execution_count": 3,
   "metadata": {
    "pycharm": {
     "name": "#%%\n"
    }
   },
   "outputs": [],
   "source": [
    "def validate_input(names, values, targeted_weights, number_payments, payment):\n",
    "    matching_number_of_inputs = len(names) == len(values) and len(values) == len(targeted_weights)\n",
    "    if not matching_number_of_inputs:\n",
    "        print(\"Error: Es müssen gleich viele Namen, aktuelle Werte und Gewichte eingegeben werden!\")\n",
    "    \n",
    "    weights_sum_up_to_1 = sum(targeted_weights) == 1\n",
    "    if not weights_sum_up_to_1:\n",
    "        print(\"Error: Die gewünschten Gewichte müssen sich zu 100% aufsummieren!\")\n",
    "    \n",
    "    number_payments_is_bigger_1 = number_payments > 0\n",
    "    if not number_payments_is_bigger_1:\n",
    "        print(\"Error: Die Anzahl der Einzahlungen muss eine ganze Zahl größer gleich 1 sein!\")\n",
    "    \n",
    "    payment_is_positive = payment >= 0\n",
    "    if not payment_is_positive:\n",
    "        print(\"Error: Die Einzahlung muss positiv sein. Dieser Rechner funktioniert nicht für Auszahlungen!\")\n",
    "    \n",
    "    return matching_number_of_inputs and weights_sum_up_to_1 and number_payments_is_bigger_1 and payment_is_positive"
   ]
  },
  {
   "cell_type": "code",
   "execution_count": 4,
   "metadata": {
    "pycharm": {
     "name": "#%%\n"
    }
   },
   "outputs": [],
   "source": [
    "# min |weights*(sum(values)+npay*pay)-(values+x*npay*pay)|^2 s.t. x>=0, sum(x)==1\n",
    "# <=> min |(weights*(sum(values)+npay*pay)-values)/(npay*pay)-x|^2 s.t. x>=0, sum(x)==1\n",
    "def calculate_distribution(values, targeted_weights, number_payments, payment):\n",
    "    n = targeted_weights.size\n",
    "    total_amount = values.sum() + number_payments * payment\n",
    "    x = cp.Variable(n)\n",
    "    c = (targeted_weights * total_amount - values) / (number_payments * payment)\n",
    "    prob = cp.Problem(\n",
    "        cp.Minimize(cp.quad_form(x, np.eye(n)) - 2 * c.T @ x + c.T @ c),\n",
    "        [x >= 0, np.ones(n) @ x == 1]\n",
    "    )\n",
    "    difference = prob.solve()\n",
    "    distribution = np.round(x.value * payment)\n",
    "    distribution = np.where(distribution>=0, distribution, 0)\n",
    "    return distribution, difference"
   ]
  },
  {
   "cell_type": "code",
   "execution_count": 5,
   "metadata": {
    "pycharm": {
     "name": "#%%\n"
    }
   },
   "outputs": [],
   "source": [
    "def print_statistics(names, values, targeted_weights, number_payments, distribution, difference):\n",
    "    n = len(names)\n",
    "    current_values = values.round(2)\n",
    "    current_percentages = np.round(100 * current_values / current_values.sum(), 1)\n",
    "    targeted_percentages = np.round(targeted_weights * 100, 1)\n",
    "    payment = distribution.sum()\n",
    "    new_values = values + number_payments * distribution\n",
    "    new_percentages = np.round(100 * new_values / new_values.sum(), 1)\n",
    "    \n",
    "    names_max_length = max(max(map(len, names)), 4)\n",
    "    current_values_max_length = max(max(map(len, map(str, current_values))), 14)\n",
    "    current_percentages_max_length = max(1+max(map(len, map(str, current_percentages))), 17)\n",
    "    new_values_max_length = max(max(map(len, map(str, new_values))), 10)\n",
    "    new_percentages_max_length = max(1+max(map(len, map(str, new_percentages))), 13)\n",
    "    targeted_percentages_max_length = max(1+max(map(len, map(str, targeted_weights))), 20)\n",
    "    \n",
    "    print(int(number_vertical_spaces/2)*\"\\n\")\n",
    "    print((names_max_length + current_values_max_length + current_percentages_max_length + new_values_max_length + \\\n",
    "           new_percentages_max_length + targeted_percentages_max_length) * \"-\")\n",
    "    print(int(number_vertical_spaces/2)*\"\\n\")\n",
    "    \n",
    "    print(f\"Zahle die nächsten {number_payments} mal jeweils folgendes ein:\")\n",
    "    print(\"Name\", (names_max_length-4+number_horizontal_spaces)*\" \", \"Einzahlung\")\n",
    "    for name, dist in zip(names, distribution):\n",
    "        print(name, (names_max_length-len(name)+number_horizontal_spaces)*\" \", dist)\n",
    "    print(number_vertical_spaces*\"\\n\")\n",
    "    \n",
    "    print(\"Damit verändert sich das Portfolio folgendermaßen:\")\n",
    "    print(\"Name\", (names_max_length-4+number_horizontal_spaces)*\" \",\n",
    "          \"aktueller Wert\", (current_values_max_length-14+number_horizontal_spaces)*\" \",\n",
    "          \"aktuelles Gewicht\", (current_percentages_max_length-17+number_horizontal_spaces)*\" \",\n",
    "          6*\" \",\n",
    "          \"neuer Wert\", (new_values_max_length-10+number_horizontal_spaces)*\" \",\n",
    "          \"neues Gewicht\", (new_percentages_max_length-13+number_horizontal_spaces)*\" \",\n",
    "          \"gewünschtes Gewicht\", (targeted_percentages_max_length-19+number_horizontal_spaces)*\" \"\n",
    "    )\n",
    "    for name, current_value, current_percentage, new_value, new_percentage, targeted_percentage in zip(names, current_values, current_percentages, new_values, new_percentages, targeted_percentages):\n",
    "        print(name, (names_max_length-len(name)+number_horizontal_spaces)*\" \",\n",
    "              current_value, (current_values_max_length-len(str(current_value))+number_horizontal_spaces)*\" \",\n",
    "              current_percentage, (current_percentages_max_length-len(str(current_percentage))+number_horizontal_spaces)*\" \",\n",
    "              2*\" \" + \"=>\" + 2*\" \",\n",
    "              new_value, (new_values_max_length-len(str(new_value))+number_horizontal_spaces)*\" \",\n",
    "              new_percentage, (new_percentages_max_length-len(str(new_percentage))+number_horizontal_spaces)*\" \",\n",
    "              targeted_percentage, (targeted_percentages_max_length-len(str(targeted_percentage))+number_horizontal_spaces)*\" \"\n",
    "        )\n",
    "    print()\n",
    "    \n",
    "    if difference < 1e-3:\n",
    "        print(\"Die gewünschten Gewichte lassen sich erreichen!\")\n",
    "    else:\n",
    "        print(\"Die gewünschten Gewichte lassen sich nicht erreichen. Kein Grund zur Panik!\",\n",
    "              \"Können von den ETFs die ein zu großes Gewicht haben, vielleicht Teile steuereffizient verkauft werden?\")"
   ]
  },
  {
   "cell_type": "code",
   "execution_count": 6,
   "metadata": {
    "pycharm": {
     "name": "#%%\n"
    }
   },
   "outputs": [
    {
     "name": "stdout",
     "output_type": "stream",
     "text": [
      "\n",
      "\n",
      "\n",
      "\n",
      "\n",
      "\n",
      "------------------------------------------------------------------------------------\n",
      "\n",
      "\n",
      "Zahle die nächsten 1 mal jeweils folgendes ein:\n",
      "Name            Einzahlung\n",
      "World           3250.0\n",
      "EM IMI          550.0\n",
      "USA SCV         700.0\n",
      "Europe SCV      500.0\n",
      "\n",
      "\n",
      "\n",
      "Damit verändert sich das Portfolio folgendermaßen:\n",
      "Name            aktueller Wert      aktuelles Gewicht             neuer Wert      neues Gewicht      gewünschtes Gewicht      \n",
      "World           6500.0              65.0                     =>   9750.0          65.0               65.0                     \n",
      "EM IMI          1100.0              11.0                     =>   1650.0          11.0               11.0                     \n",
      "USA SCV         1400.0              14.0                     =>   2100.0          14.0               14.0                     \n",
      "Europe SCV      1000.0              10.0                     =>   1500.0          10.0               10.0                     \n",
      "\n",
      "Die gewünschten Gewichte lassen sich erreichen!\n"
     ]
    }
   ],
   "source": [
    "names = input(\"Bitte gebe die Namen der ETFs mit Kommas getrennt ein.\\nBsp.: World, EM IMI, USA SCV, Europe SCV\\n\")\n",
    "names = list(map(lambda s: s.strip(), names.split(\",\")))\n",
    "print()\n",
    "\n",
    "values = input(\"Bitte gebe die aktuellen Werte der ETFs mit Kommas getrennt ein.\\nKommazahlen bitte mit Punkt statt Komma eingeben.\\nBitte die gleiche Reihenfolge wie bei den Namen verwenden.\\nBsp.: 6500, 1100, 1400, 1000\\n\")\n",
    "values = np.array(list(map(lambda v: float(v), values.split(\",\"))))\n",
    "print()\n",
    "\n",
    "targeted_weights = input(\"Bitte gebe die gewünschten Gewichte in Prozent der ETFs mit Kommas getrennt ein.\\nKommazahlen bitte mit Punkt statt Komma eingeben.\\nBitte die gleiche Reihenfolge wie bei den Namen verwenden.\\nBsp.: 65, 11, 14, 10\\n\")\n",
    "targeted_weights = np.array(list(map(lambda w: float(w), targeted_weights.split(\",\")))) / 100\n",
    "print()\n",
    "\n",
    "number_payments = input(\"Bitte gebe bei einer Einmaleinzahlung eine 1 ein.\\nBei einem Sparplan bitte die Anzahl an Einzahlungen eingeben bei denen der Sparplan nicht verändert wird:\\n\")\n",
    "number_payments = int(number_payments)\n",
    "print()\n",
    "\n",
    "payment = input(\"Bitte gebe die Höhe der Einzahlung an. Bei einem Sparplan nur der Betrag für eine Ausführung:\\n\")\n",
    "payment = float(payment)\n",
    "\n",
    "input_is_valid = validate_input(names, values, targeted_weights, number_payments, payment)\n",
    "if input_is_valid:\n",
    "    distribution, difference = calculate_distribution(values, targeted_weights, number_payments, payment)\n",
    "    print_statistics(names, values, targeted_weights, number_payments, distribution, difference)"
   ]
  }
 ],
 "metadata": {
  "kernelspec": {
   "display_name": "Python 3 (ipykernel)",
   "language": "python",
   "name": "python3"
  },
  "language_info": {
   "codemirror_mode": {
    "name": "ipython",
    "version": 3
   },
   "file_extension": ".py",
   "mimetype": "text/x-python",
   "name": "python",
   "nbconvert_exporter": "python",
   "pygments_lexer": "ipython3",
   "version": "3.8.3"
  }
 },
 "nbformat": 4,
 "nbformat_minor": 4
}